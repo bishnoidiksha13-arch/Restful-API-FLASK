{
  "nbformat": 4,
  "nbformat_minor": 0,
  "metadata": {
    "colab": {
      "provenance": []
    },
    "kernelspec": {
      "name": "python3",
      "display_name": "Python 3"
    },
    "language_info": {
      "name": "python"
    }
  },
  "cells": [
    {
      "cell_type": "markdown",
      "source": [
        "# Restful API & FLASK"
      ],
      "metadata": {
        "id": "LMTSrmITe7CF"
      }
    },
    {
      "cell_type": "markdown",
      "source": [
        "**1. What is a RESTful API?**\n",
        "  - A RESTful API follows REST architecture and uses standard HTTP methods like GET, POST, PUT, and DELETE to access and manipulate data. It treats each resource as an object with a unique URI. REST APIs are stateless and return data in formats like JSON or XML.\n",
        "\n",
        "**2. Explain the concept of API specification?**\n",
        "  - An API specification is a detailed description of how an API should behave. It defines available endpoints, request/response formats, authentication methods, and error handling. Tools like OpenAPI help in generating documentation and client/server code.\n",
        "\n",
        "**3. What is Flask, and why is it popular for building API?**\n",
        "  - Flask is a lightweight web framework written in Python. It’s popular for APIs due to its simplicity, flexibility, and ease of integration with extensions. It allows quick development of RESTful APIs with minimal boilerplate code.\n",
        "\n",
        "**4.What is routing in Flask?**\n",
        "  - Routing is the process of defining URL patterns and mapping them to Python functions. In Flask, this is done using the @app.route() decorator. Each route corresponds to a specific action or resource in the app.\n",
        "\n",
        "**5. How do you create a simple Flask application?**\n",
        "  - To create a basic Flask app, import Flask, define routes using @app.route(), and run the app using app.run(). The structure is simple and requires only a few lines of code. Flask apps can be scaled easily by adding routes and logic.\n",
        "\n",
        "**6. What are HTTP methods used in RESTful APIs?**\n",
        "  - RESTful APIs use methods like:\n",
        "  - GET – Retrieve data\n",
        "  - POST – Create new data\n",
        "  - PUT – Update existing data\n",
        "  - DELETE – Remove data\n",
        "\n",
        "**7. What is the purpose of the @app.route() decorator in Flask?**\n",
        "  - The @app.route() decorator links a URL pattern to a specific function. It tells Flask which function to call when a certain route is accessed. You can also specify which HTTP methods (GET, POST, etc.) a route should accept.\n",
        "\n",
        "**8. What is the difference between GET and POST HTTP methods?**\n",
        "  - GET is used to retrieve data from the server and should not modify server state.\n",
        "  - POST sends data to the server to create or update a resource and usually changes the server's state. GET appends data in the URL, while POST sends it in the body.\n",
        "\n",
        "**9. How do you handle errors in Flask APIs?**\n",
        "  - Flask allows custom error handling using the @app.errorhandler() decorator. You can return custom JSON messages and status codes for errors like 404 or 500. This helps improve user experience and debugging.\n",
        "\n",
        "**10. How do you connect Flask to a SQL database?**\n",
        "  - You can connect Flask to a database using Flask-SQLAlchemy. Set the database URI in app.config['SQLALCHEMY_DATABASE_URI'], initialize SQLAlchemy, and define models. Flask supports SQLite, MySQL, PostgreSQL, etc.\n",
        "\n",
        "**11. What is the role of Flask-SQLAlchemy?**\n",
        "  - Flask-SQLAlchemy is an ORM that integrates SQLAlchemy with Flask. It simplifies database operations using Python classes (models) instead of raw SQL queries. It also handles migrations, relationships, and schema management.\n",
        "\n",
        "**12. What are Flask blueprints, and how are they useful?**\n",
        "  - Blueprints let you organize your app into smaller, reusable modules. Each blueprint can define its own routes, templates, and static files. This is useful for large applications where code organization is important.\n",
        "\n",
        "**13. What is the purpose of Flask's request object?**\n",
        "  - The request object gives access to incoming HTTP request data. You can access form data (request.form), JSON payloads (request.json), and query strings (request.args). It’s essential for handling user input in APIs.\n",
        "\n",
        "**14. How do you create a RESTful API endpoint using Flask?**\n",
        "  - Use the @app.route() decorator and specify allowed HTTP methods. In the function, use the request object to process incoming data and jsonify() to return responses. Each endpoint should perform a specific CRUD operation.\n",
        "\n",
        "**15. What is the purpose of Flask's jsonify() function?**\n",
        "  - jsonify() converts Python dictionaries or lists into JSON responses. It also sets the correct Content-Type header (application/json). It's preferred over json.dumps() for returning API responses in Flask.\n",
        "\n",
        "**16. Explain Flask’s url_for() function?**\n",
        "  - url_for() generates URLs dynamically using the function name of a route. It prevents hardcoding URLs and helps in maintaining consistency across the app. It also supports passing dynamic arguments to the URL.\n",
        "\n",
        "**17. How does Flask handle static files (CSS, JavaScript, etc.)?**\n",
        "  - Flask serves static files from the /static directory by default. You can access them using the URL /static/filename.ext. Use url_for('static', filename='style.css') in templates to link static resources.\n",
        "\n",
        "**18. What is an API specification, and how does it help in building a Flask API?**\n",
        "  - An API specification defines how the API functions, including endpoints, input/output formats, and expected responses. It ensures consistent development, facilitates testing, and serves as documentation for both developers and clients.\n",
        "\n",
        "**19. What are HTTP status codes, and why are they important in a Flask API?**\n",
        "  - 200 OK (success)\n",
        "  - 201 Created\n",
        "  - 400 Bad Request\n",
        "  - 404 Not Found\n",
        "  - They help clients understand the response status and handle it appropriately.\n",
        "\n",
        "**20. How do you handle POST requests in Flask?**\n",
        "   - Use the @app.route() decorator with methods=['POST']. Inside the route function, use request.json or request.form to access posted data. Validate and process the data before returning a response.\n",
        "\n",
        "**21. How would you secure a Flask API?**\n",
        "  - Use HTTPS to encrypt data, implement authentication (JWT or OAuth), validate input to prevent injection, and use tools like Flask-Limiter for rate limiting. CORS and API key management are also important.\n",
        "\n",
        "**22. What is the significance of the Flask-RESTful extension?**\n",
        "  - Flask-RESTful simplifies the creation of REST APIs by providing the Resource class, request parsing, and easy response formatting. It encourages clean, class-based API design and better separation of logic.\n",
        "\n",
        "**23. What is the role of Flask’s session object?**\n",
        "  - The session object stores data across user sessions using cookies. It’s useful for storing user-specific data like login info. Flask signs session cookies to prevent tampering.\n",
        "  "
      ],
      "metadata": {
        "id": "ApC3iHZCfD5Z"
      }
    },
    {
      "cell_type": "markdown",
      "source": [
        "# Practical Questions"
      ],
      "metadata": {
        "id": "7X79zNKYjzIv"
      }
    },
    {
      "cell_type": "markdown",
      "source": [
        "**1.How do you create a basic Flask application?**"
      ],
      "metadata": {
        "id": "qOtBKqnXj4-R"
      }
    },
    {
      "cell_type": "code",
      "execution_count": null,
      "metadata": {
        "colab": {
          "base_uri": "https://localhost:8080/"
        },
        "id": "MUtvKY_Qew6A",
        "outputId": "3788a580-a695-4305-df91-13dec2f4c4ff"
      },
      "outputs": [
        {
          "output_type": "stream",
          "name": "stdout",
          "text": [
            " * Serving Flask app '__main__'\n",
            " * Debug mode: on\n"
          ]
        },
        {
          "output_type": "stream",
          "name": "stderr",
          "text": [
            "INFO:werkzeug:\u001b[31m\u001b[1mWARNING: This is a development server. Do not use it in a production deployment. Use a production WSGI server instead.\u001b[0m\n",
            " * Running on http://127.0.0.1:5000\n",
            "INFO:werkzeug:\u001b[33mPress CTRL+C to quit\u001b[0m\n",
            "INFO:werkzeug: * Restarting with watchdog (inotify)\n"
          ]
        }
      ],
      "source": [
        "from flask import Flask\n",
        "\n",
        "app = Flask(__name__)\n",
        "\n",
        "@app.route('/')\n",
        "def home():\n",
        "    return \"Hello, Flask!\"\n",
        "\n",
        "if __name__ == '__main__':\n",
        "    app.run(debug=True)\n"
      ]
    },
    {
      "cell_type": "markdown",
      "source": [
        "**2. How do you serve static files like images or CSS in Flask?**"
      ],
      "metadata": {
        "id": "egso1B97kmln"
      }
    },
    {
      "cell_type": "code",
      "source": [
        "/static\n",
        "    style.css\n",
        "    logo.png\n",
        "/app.py\n"
      ],
      "metadata": {
        "id": "9RRFKyo5klO9"
      },
      "execution_count": null,
      "outputs": []
    },
    {
      "cell_type": "code",
      "source": [
        "from flask import Flask, render_template\n",
        "\n",
        "app = Flask(__name__)\n",
        "\n",
        "@app.route('/')\n",
        "def home():\n",
        "    return render_template(\"index.html\")\n"
      ],
      "metadata": {
        "id": "MvogdKJtk1Sg"
      },
      "execution_count": null,
      "outputs": []
    },
    {
      "cell_type": "code",
      "source": [
        "<!DOCTYPE html>\n",
        "<html>\n",
        "<head>\n",
        "    <link rel=\"stylesheet\" href=\"{{ url_for('static', filename='style.css') }}\">\n",
        "</head>\n",
        "<body>\n",
        "    <img src=\"{{ url_for('static', filename='logo.png') }}\" alt=\"Logo\">\n",
        "</body>\n",
        "</html>\n"
      ],
      "metadata": {
        "id": "8gYGKrD5k5eg"
      },
      "execution_count": null,
      "outputs": []
    },
    {
      "cell_type": "markdown",
      "source": [
        "**3. How do you define different routes with different HTTP methods?**"
      ],
      "metadata": {
        "id": "4QbPuxdTlEZ7"
      }
    },
    {
      "cell_type": "code",
      "source": [
        "from flask import Flask, request\n",
        "\n",
        "app = Flask(__name__)\n",
        "\n",
        "@app.route('/submit', methods=['GET', 'POST'])\n",
        "def submit():\n",
        "    if request.method == 'POST':\n",
        "        return \"Form Submitted!\"\n",
        "    return \"Send a POST request to submit\"\n"
      ],
      "metadata": {
        "id": "5n12-xO7k-9-"
      },
      "execution_count": null,
      "outputs": []
    },
    {
      "cell_type": "markdown",
      "source": [
        "**4. How do you render HTML templates in Flask?**"
      ],
      "metadata": {
        "id": "ReMSEgptlPJG"
      }
    },
    {
      "cell_type": "code",
      "source": [
        "from flask import Flask, render_template\n",
        "\n",
        "app = Flask(__name__)\n",
        "\n",
        "@app.route('/')\n",
        "def home():\n",
        "    return render_template('home.html', name=\"Flask User\")\n"
      ],
      "metadata": {
        "id": "7s-8_AWSlaAl"
      },
      "execution_count": null,
      "outputs": []
    },
    {
      "cell_type": "code",
      "source": [
        "templates/home.html\n",
        "\n",
        "<!DOCTYPE html>\n",
        "<html>\n",
        "<body>\n",
        "    <h1>Hello, {{ name }}!</h1>\n",
        "</body>\n",
        "</html>\n"
      ],
      "metadata": {
        "id": "iUn1pO2mlmYO"
      },
      "execution_count": null,
      "outputs": []
    },
    {
      "cell_type": "markdown",
      "source": [
        "**5. How can you generate URLs for routes in Flask using url_for?**"
      ],
      "metadata": {
        "id": "YG7I3F_KlYsd"
      }
    },
    {
      "cell_type": "code",
      "source": [
        "from flask import Flask, url_for, redirect\n",
        "\n",
        "app = Flask(__name__)\n",
        "\n",
        "@app.route('/')\n",
        "def index():\n",
        "    return redirect(url_for('about'))\n",
        "\n",
        "@app.route('/about')\n",
        "def about():\n",
        "    return \"About Page\"\n"
      ],
      "metadata": {
        "id": "4yiWhHuLl8pC"
      },
      "execution_count": null,
      "outputs": []
    },
    {
      "cell_type": "markdown",
      "source": [
        "**6. How do you handle forms in Flask?**"
      ],
      "metadata": {
        "id": "1zQP-cQll7yW"
      }
    },
    {
      "cell_type": "code",
      "source": [
        "from flask import Flask, request, render_template\n",
        "\n",
        "app = Flask(__name__)\n",
        "\n",
        "@app.route('/', methods=['GET', 'POST'])\n",
        "def form():\n",
        "    if request.method == 'POST':\n",
        "        username = request.form['username']\n",
        "        return f\"Hello, {username}!\"\n",
        "    return render_template('form.html')\n"
      ],
      "metadata": {
        "id": "zzzbsBdbmEL0"
      },
      "execution_count": null,
      "outputs": []
    },
    {
      "cell_type": "code",
      "source": [
        "templates/from.html:\n",
        "\n",
        "<form method=\"POST\">\n",
        "    <input type=\"text\" name=\"username\" required>\n",
        "    <button type=\"submit\">Submit</button>\n",
        "</form>\n"
      ],
      "metadata": {
        "id": "EJmWQTXxmJjI"
      },
      "execution_count": null,
      "outputs": []
    },
    {
      "cell_type": "markdown",
      "source": [
        "**7. How can you validate form data in Flask?**"
      ],
      "metadata": {
        "id": "U4LaE3KamWzW"
      }
    },
    {
      "cell_type": "code",
      "source": [
        "from flask import Flask, request, render_template, flash\n",
        "from flask_wtf import FlaskForm\n",
        "from wtforms import StringField, SubmitField\n",
        "from wtforms.validators import DataRequired\n",
        "\n",
        "app = Flask(__name__)\n",
        "app.secret_key = 'secret-key'  # Required for Flask-WTF\n",
        "\n",
        "class NameForm(FlaskForm):\n",
        "    name = StringField('Name', validators=[DataRequired()])\n",
        "    submit = SubmitField('Submit')\n",
        "\n",
        "@app.route('/', methods=['GET', 'POST'])\n",
        "def form():\n",
        "    form = NameForm()\n",
        "    if form.validate_on_submit():\n",
        "        return f\"Hello, {form.name.data}!\"\n",
        "    return render_template('form.html', form=form)\n"
      ],
      "metadata": {
        "id": "1E-evFucmWIN"
      },
      "execution_count": null,
      "outputs": []
    },
    {
      "cell_type": "code",
      "source": [
        "templates/from.html :\n",
        "\n",
        "<form method=\"POST\">\n",
        "    {{ form.hidden_tag() }}\n",
        "    {{ form.name.label }} {{ form.name() }}\n",
        "    {{ form.submit() }}\n",
        "</form>\n"
      ],
      "metadata": {
        "id": "rg3GUCkVmc_6"
      },
      "execution_count": null,
      "outputs": []
    },
    {
      "cell_type": "markdown",
      "source": [
        "**8. How do you manage sessions in Flask?**"
      ],
      "metadata": {
        "id": "qhEti7NdmoaC"
      }
    },
    {
      "cell_type": "code",
      "source": [
        "from flask import Flask, session, redirect, url_for, request\n",
        "\n",
        "app = Flask(__name__)\n",
        "app.secret_key = 'mysecret'\n",
        "\n",
        "@app.route('/', methods=['GET', 'POST'])\n",
        "def index():\n",
        "    if request.method == 'POST':\n",
        "        session['username'] = request.form['username']\n",
        "        return redirect(url_for('welcome'))\n",
        "    return '''\n",
        "        <form method=\"post\">\n",
        "            <input type=\"text\" name=\"username\">\n",
        "            <input type=\"submit\">\n",
        "        </form>\n",
        "    '''\n",
        "\n",
        "@app.route('/welcome')\n",
        "def welcome():\n",
        "    username = session.get('username', 'Guest')\n",
        "    return f\"Welcome, {username}!\"\n"
      ],
      "metadata": {
        "id": "AJdRAq80mfhG"
      },
      "execution_count": null,
      "outputs": []
    },
    {
      "cell_type": "markdown",
      "source": [
        "**9. How do you redirect to a different route in Flask?**"
      ],
      "metadata": {
        "id": "1yPRNH68m3fm"
      }
    },
    {
      "cell_type": "code",
      "source": [
        "from flask import Flask, redirect, url_for\n",
        "\n",
        "app = Flask(__name__)\n",
        "\n",
        "@app.route('/')\n",
        "def index():\n",
        "    return redirect(url_for('hello'))\n",
        "\n",
        "@app.route('/hello')\n",
        "def hello():\n",
        "    return \"Redirected here!\"\n"
      ],
      "metadata": {
        "id": "_9iiBraEmww6"
      },
      "execution_count": null,
      "outputs": []
    },
    {
      "cell_type": "markdown",
      "source": [
        "**10. How do you handle errors in Flask (e.g., 404)?**"
      ],
      "metadata": {
        "id": "yxR9-pv5m_9n"
      }
    },
    {
      "cell_type": "code",
      "source": [
        "from flask import Flask, render_template\n",
        "\n",
        "app = Flask(__name__)\n",
        "\n",
        "@app.errorhandler(404)\n",
        "def page_not_found(e):\n",
        "    return render_template('404.html'), 404\n"
      ],
      "metadata": {
        "id": "RgHPbu_Dm8QR"
      },
      "execution_count": null,
      "outputs": []
    },
    {
      "cell_type": "code",
      "source": [
        "templates/404.html :\n",
        "\n",
        "<h1>404 - Page Not Found</h1>\n"
      ],
      "metadata": {
        "id": "DQK_UmCGnEOH"
      },
      "execution_count": null,
      "outputs": []
    },
    {
      "cell_type": "markdown",
      "source": [
        "**11. How do you structure a Flask app using Blueprints?**"
      ],
      "metadata": {
        "id": "wEDij3monhEJ"
      }
    },
    {
      "cell_type": "code",
      "source": [
        "from flask import Flask\n",
        "from user import user_bp\n",
        "\n",
        "app = Flask(__name__)\n",
        "app.register_blueprint(user_bp, url_prefix='/user')\n"
      ],
      "metadata": {
        "id": "E0QvIhLTnU6H"
      },
      "execution_count": null,
      "outputs": []
    },
    {
      "cell_type": "code",
      "source": [
        "user.py:\n",
        "\n",
        "from flask import Blueprint\n",
        "\n",
        "user_bp = Blueprint('user', __name__)\n",
        "\n",
        "@user_bp.route('/profile')\n",
        "def profile():\n",
        "    return \"User Profile\"\n"
      ],
      "metadata": {
        "id": "E1CFOURrnk-B"
      },
      "execution_count": null,
      "outputs": []
    },
    {
      "cell_type": "markdown",
      "source": [
        "**12. How do you define a custom Jinja filter in Flask?**"
      ],
      "metadata": {
        "id": "IuOq_H9Tnsg9"
      }
    },
    {
      "cell_type": "code",
      "source": [
        "from flask import Flask, render_template\n",
        "\n",
        "app = Flask(__name__)\n",
        "\n",
        "@app.template_filter('reverse')\n",
        "def reverse_filter(s):\n",
        "    return s[::-1]\n",
        "\n",
        "@app.route('/')\n",
        "def home():\n",
        "    return render_template('filter.html', message=\"Hello\")\n"
      ],
      "metadata": {
        "id": "PkWJc109npI5"
      },
      "execution_count": null,
      "outputs": []
    },
    {
      "cell_type": "code",
      "source": [
        "templates/filter.html :\n",
        "\n",
        "{{ message | reverse }}\n"
      ],
      "metadata": {
        "id": "eEURT5Mln4SW"
      },
      "execution_count": null,
      "outputs": []
    },
    {
      "cell_type": "markdown",
      "source": [
        "**13. How can you redirect with query parameters in Flask?**"
      ],
      "metadata": {
        "id": "x2Cj8ukNoEpP"
      }
    },
    {
      "cell_type": "code",
      "source": [
        "from flask import Flask, redirect, url_for, request\n",
        "\n",
        "app = Flask(__name__)\n",
        "\n",
        "@app.route('/')\n",
        "def index():\n",
        "    return redirect(url_for('hello', name='Alice'))\n",
        "\n",
        "@app.route('/hello')\n",
        "def hello():\n",
        "    name = request.args.get('name', 'Guest')\n",
        "    return f\"Hello, {name}!\"\n"
      ],
      "metadata": {
        "id": "p5U44N2-n_B6"
      },
      "execution_count": null,
      "outputs": []
    },
    {
      "cell_type": "markdown",
      "source": [
        "**14. How do you return JSON responses in Flask?**"
      ],
      "metadata": {
        "id": "OVD7qK3FoOgl"
      }
    },
    {
      "cell_type": "code",
      "source": [
        "from flask import Flask, jsonify\n",
        "\n",
        "app = Flask(__name__)\n",
        "\n",
        "@app.route('/api')\n",
        "def api():\n",
        "    return jsonify({\"name\": \"Flask\", \"version\": 1.1})\n"
      ],
      "metadata": {
        "id": "1d-QE8dYoDG8"
      },
      "execution_count": null,
      "outputs": []
    },
    {
      "cell_type": "markdown",
      "source": [
        "**15. How do you capture URL parameters in Flask?**"
      ],
      "metadata": {
        "id": "XGjt4UeVoVHe"
      }
    },
    {
      "cell_type": "code",
      "source": [
        "from flask import Flask\n",
        "\n",
        "app = Flask(__name__)\n",
        "\n",
        "@app.route('/user/<username>')\n",
        "def show_user(username):\n",
        "    return f\"User: {username}\"\n"
      ],
      "metadata": {
        "id": "Y1xHYzh3oTxv"
      },
      "execution_count": null,
      "outputs": []
    },
    {
      "cell_type": "code",
      "source": [],
      "metadata": {
        "id": "eSOTdOJKobnZ"
      },
      "execution_count": null,
      "outputs": []
    }
  ]
}